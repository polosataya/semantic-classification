{
 "cells": [
  {
   "cell_type": "code",
   "execution_count": 2,
   "id": "7e4af4a6",
   "metadata": {},
   "outputs": [],
   "source": [
    "import warnings\n",
    "warnings.filterwarnings('ignore')"
   ]
  },
  {
   "cell_type": "code",
   "execution_count": 3,
   "id": "ac584648",
   "metadata": {},
   "outputs": [],
   "source": [
    "import pandas as pd\n",
    "import numpy as np\n",
    "from sklearn.model_selection import train_test_split, KFold\n",
    "from sklearn.metrics import balanced_accuracy_score, precision_score, recall_score, roc_auc_score, accuracy_score\n",
    "from sklearn.metrics import classification_report, f1_score\n",
    "from sklearn.metrics import ConfusionMatrixDisplay\n",
    "import matplotlib.pyplot as plt\n",
    "%matplotlib inline"
   ]
  },
  {
   "cell_type": "code",
   "execution_count": 5,
   "id": "1d8c21d5",
   "metadata": {},
   "outputs": [],
   "source": [
    "from datasets import load_metric, Dataset\n",
    "import datasets\n",
    "import torch\n",
    "from transformers import AutoModel, BertTokenizer, BertForSequenceClassification\n",
    "from transformers import TrainingArguments, Trainer\n",
    "from transformers import EvalPrediction"
   ]
  },
  {
   "cell_type": "code",
   "execution_count": 18,
   "id": "f8b3ae6a",
   "metadata": {},
   "outputs": [
    {
     "name": "stdout",
     "output_type": "stream",
     "text": [
      "cpu\n"
     ]
    }
   ],
   "source": [
    "#device = 'cuda' if cuda.is_available() else 'cpu'\n",
    "device = 'cpu'\n",
    "print(device)"
   ]
  },
  {
   "cell_type": "markdown",
   "id": "a02e23d7",
   "metadata": {},
   "source": [
    "Метрики для модели"
   ]
  },
  {
   "cell_type": "code",
   "execution_count": 6,
   "id": "1046f4b2",
   "metadata": {},
   "outputs": [],
   "source": [
    "# source: https://jesusleal.io/2021/04/21/Longformer-multilabel-classification/\n",
    "def multi_label_metrics(predictions, labels, threshold=0.5):\n",
    "    # first, apply sigmoid on predictions which are of shape (batch_size, num_labels)\n",
    "    sigmoid = torch.nn.Sigmoid()\n",
    "    probs = sigmoid(torch.Tensor(predictions))\n",
    "    # next, use threshold to turn them into integer predictions\n",
    "    y_pred = np.zeros(probs.shape)\n",
    "    y_pred[np.where(probs >= threshold)] = 1\n",
    "    # finally, compute metrics\n",
    "    y_true = labels\n",
    "    f1_micro_average = f1_score(y_true=y_true, y_pred=y_pred, average='micro')\n",
    "    roc_auc = roc_auc_score(y_true, y_pred, average = 'micro')\n",
    "    accuracy = accuracy_score(y_true, y_pred)\n",
    "    # return as dictionary\n",
    "    metrics = {'f1': f1_micro_average,\n",
    "               'roc_auc': roc_auc,\n",
    "               'accuracy': accuracy}\n",
    "    return metrics\n",
    "\n",
    "def compute_metrics(p: EvalPrediction):\n",
    "    preds = p.predictions[0] if isinstance(p.predictions, \n",
    "            tuple) else p.predictions\n",
    "    result = multi_label_metrics(\n",
    "        predictions=preds, \n",
    "        labels=p.label_ids)\n",
    "    return result"
   ]
  },
  {
   "cell_type": "markdown",
   "id": "d4ec6eaa",
   "metadata": {},
   "source": [
    "Подготовка текстов документов для подачи в модель"
   ]
  },
  {
   "cell_type": "code",
   "execution_count": 16,
   "id": "d9b141ec",
   "metadata": {},
   "outputs": [],
   "source": [
    "# словари для перевода лейблов в числа для модели\n",
    "labels = [label for label in train.columns if label not in ['text']]\n",
    "id2label = {idx:label for idx, label in enumerate(labels)}\n",
    "label2id = {label:idx for idx, label in enumerate(labels)}\n",
    "\n",
    "#для трейна\n",
    "def preprocess_data(examples):\n",
    "    # take a batch of texts\n",
    "    text = examples['text']\n",
    "    # encode them\n",
    "    encoding = tokenizer(text, padding=\"max_length\", truncation=True, max_length=512) #max_length=128\n",
    "    \n",
    "    # add labels\n",
    "    labels_batch = {k: examples[k] for k in examples.keys() if k in labels}\n",
    "    # create numpy array of shape (batch_size, num_labels)\n",
    "    labels_matrix = np.zeros((len(text), len(labels)))\n",
    "    # fill numpy array\n",
    "    for idx, label in enumerate(labels):\n",
    "        labels_matrix[:, idx] = labels_batch[label]\n",
    "\n",
    "    encoding[\"labels\"] = labels_matrix.tolist()\n",
    "  \n",
    "    return encoding\n",
    "\n",
    "def encoding_dataset(df_train, test_size=0.2):\n",
    "    #подготовка датасета для модели\n",
    "    #features: ['input_ids', 'token_type_ids', 'attention_mask', 'labels']\n",
    "    train_df, valid_df = train_test_split(df_train, test_size=test_size, random_state=42)\n",
    "    train_dataset = Dataset.from_pandas(train_df)\n",
    "    valid_dataset = Dataset.from_pandas(valid_df)\n",
    "    dataset = datasets.DatasetDict({\"train\":train_dataset,\n",
    "                                    \"validation\":valid_dataset,\n",
    "                                    #'test': test_dataset\n",
    "                                   })\n",
    "    \n",
    "    encoded_dataset = dataset.map(preprocess_data, batched=True, remove_columns=dataset['train'].column_names)\n",
    "    encoded_dataset.set_format(\"torch\")\n",
    "    \n",
    "    return encoded_dataset#, labels, id2label, label2id\n",
    "\n",
    "#длятеста\n",
    "def preprocess_test(examples):\n",
    "    # take a batch of texts\n",
    "    text = examples['texts']\n",
    "    # encode them\n",
    "    encoding = tokenizer(text, padding=\"max_length\", truncation=True, max_length=512) #max_length=128\n",
    "  \n",
    "    return encoding\n",
    "\n",
    "def encoding_test(df_test):\n",
    "    #подготовка датасета для модели\n",
    "    #features: ['input_ids', 'token_type_ids', 'attention_mask', 'labels']\n",
    "    test_dataset = Dataset.from_pandas(df_test)\n",
    "    dataset = datasets.DatasetDict({\"test\":test_dataset})\n",
    "    \n",
    "    encoded_dataset = dataset.map(preprocess_test, batched=True, remove_columns=dataset['test'].column_names)\n",
    "    encoded_dataset.set_format(\"torch\")\n",
    "    \n",
    "    return encoded_dataset"
   ]
  },
  {
   "cell_type": "markdown",
   "id": "913ac8e7",
   "metadata": {},
   "source": [
    "Предсказание для для датасета и для отдельного текста"
   ]
  },
  {
   "cell_type": "code",
   "execution_count": 26,
   "id": "47a40391",
   "metadata": {},
   "outputs": [],
   "source": [
    "def predict_text(text):\n",
    "    #предсказание для одного текста\n",
    "    encoding = tokenizer(text, return_tensors=\"pt\")\n",
    "    encoding = {k: v.to(trainer.model.device) for k,v in encoding.items()}\n",
    "\n",
    "    outputs = trainer.model(**encoding)\n",
    "    logits = outputs.logits\n",
    "    # apply sigmoid + threshold\n",
    "    sigmoid = torch.nn.Sigmoid()\n",
    "    probs = sigmoid(logits.squeeze().to(\"cpu\"))\n",
    "    predictions = np.zeros(probs.shape)\n",
    "    #predictions[np.where(probs >= 0.5)] = 1  #мультилейбл\n",
    "    predictions[np.where(probs == max(probs))] = 1  #один лейбл\n",
    "    # turn predicted id's into actual label names\n",
    "    predicted_labels = [id2label[idx] for idx, label in enumerate(predictions) if label == 1.0]\n",
    "    return predicted_labels\n",
    "\n",
    "def get_prediction(dataset):\n",
    "    # предсказание для теста\n",
    "    pred = trainer.predict(dataset)\n",
    "    predict = pred.predictions\n",
    "    labels = np.argmax(predict, axis = -1)\n",
    "    score = np.max(predict, axis = -1)\n",
    "    labels = [id2label[idx] for idx in list(labels)]\n",
    "    return labels, score"
   ]
  },
  {
   "cell_type": "markdown",
   "id": "8403cc93",
   "metadata": {},
   "source": [
    "Загрузка датасета"
   ]
  },
  {
   "cell_type": "code",
   "execution_count": 9,
   "id": "8d57033a",
   "metadata": {},
   "outputs": [
    {
     "data": {
      "text/html": [
       "<div>\n",
       "<style scoped>\n",
       "    .dataframe tbody tr th:only-of-type {\n",
       "        vertical-align: middle;\n",
       "    }\n",
       "\n",
       "    .dataframe tbody tr th {\n",
       "        vertical-align: top;\n",
       "    }\n",
       "\n",
       "    .dataframe thead th {\n",
       "        text-align: right;\n",
       "    }\n",
       "</style>\n",
       "<table border=\"1\" class=\"dataframe\">\n",
       "  <thead>\n",
       "    <tr style=\"text-align: right;\">\n",
       "      <th></th>\n",
       "      <th>class</th>\n",
       "      <th>text</th>\n",
       "    </tr>\n",
       "  </thead>\n",
       "  <tbody>\n",
       "    <tr>\n",
       "      <th>0</th>\n",
       "      <td>contract</td>\n",
       "      <td>Приложение к письму Банка России \"О форме дого...</td>\n",
       "    </tr>\n",
       "    <tr>\n",
       "      <th>1</th>\n",
       "      <td>contract</td>\n",
       "      <td>ДОГОВОР МЕЖДУ РОССИЙСКОЙ ФЕДЕРАЦИЕЙ И РЕСПУБЛИ...</td>\n",
       "    </tr>\n",
       "    <tr>\n",
       "      <th>2</th>\n",
       "      <td>contract</td>\n",
       "      <td>Договор {ДатаДокумента} г. {НазваниеКонтр}, в ...</td>\n",
       "    </tr>\n",
       "    <tr>\n",
       "      <th>3</th>\n",
       "      <td>contract</td>\n",
       "      <td>ДОГОВОР г. Москва 2020 года Гр. РФ , года рожд...</td>\n",
       "    </tr>\n",
       "    <tr>\n",
       "      <th>4</th>\n",
       "      <td>contract</td>\n",
       "      <td>Зарегистрировано в Минюсте РФ 25 августа 1992 ...</td>\n",
       "    </tr>\n",
       "  </tbody>\n",
       "</table>\n",
       "</div>"
      ],
      "text/plain": [
       "      class                                               text\n",
       "0  contract  Приложение к письму Банка России \"О форме дого...\n",
       "1  contract  ДОГОВОР МЕЖДУ РОССИЙСКОЙ ФЕДЕРАЦИЕЙ И РЕСПУБЛИ...\n",
       "2  contract  Договор {ДатаДокумента} г. {НазваниеКонтр}, в ...\n",
       "3  contract  ДОГОВОР г. Москва 2020 года Гр. РФ , года рожд...\n",
       "4  contract  Зарегистрировано в Минюсте РФ 25 августа 1992 ..."
      ]
     },
     "execution_count": 9,
     "metadata": {},
     "output_type": "execute_result"
    }
   ],
   "source": [
    "train = pd.read_csv('dataset/train.csv', sep=',', index_col=None)\n",
    "train.head()"
   ]
  },
  {
   "cell_type": "markdown",
   "id": "99c7e285",
   "metadata": {},
   "source": [
    "Проверка количества записей по классам"
   ]
  },
  {
   "cell_type": "code",
   "execution_count": 10,
   "id": "a2c0a17a",
   "metadata": {},
   "outputs": [
    {
     "data": {
      "text/plain": [
       "class\n",
       "arrangement       323\n",
       "order             309\n",
       "contract          296\n",
       "application        72\n",
       "proxy              71\n",
       "act                69\n",
       "determination      58\n",
       "statute            50\n",
       "invoice            43\n",
       "bill               41\n",
       "contract offer     26\n",
       "Name: count, dtype: int64"
      ]
     },
     "execution_count": 10,
     "metadata": {},
     "output_type": "execute_result"
    }
   ],
   "source": [
    "train['class'].value_counts()"
   ]
  },
  {
   "cell_type": "markdown",
   "id": "996fd725",
   "metadata": {},
   "source": [
    "Проверка длины текстов для определения оптимальной длины последовательности токенов, чтобы избежать разреженных векторов."
   ]
  },
  {
   "cell_type": "code",
   "execution_count": 11,
   "id": "896c1465",
   "metadata": {},
   "outputs": [
    {
     "data": {
      "text/plain": [
       "35947"
      ]
     },
     "execution_count": 11,
     "metadata": {},
     "output_type": "execute_result"
    }
   ],
   "source": [
    "#максимальная длина документа\n",
    "seq_len_train = [len(str(i).split()) for i in train['text']]\n",
    "max_seq_len = max(seq_len_train)\n",
    "#если меньше 512 tokenizer(max_length) уменьшить,чтоб не было пустоты\n",
    "max_seq_len"
   ]
  },
  {
   "cell_type": "code",
   "execution_count": 12,
   "id": "f4ced798",
   "metadata": {},
   "outputs": [
    {
     "data": {
      "text/plain": [
       "<Axes: >"
      ]
     },
     "execution_count": 12,
     "metadata": {},
     "output_type": "execute_result"
    },
    {
     "data": {
      "image/png": "[encoded data removed]",
      "text/plain": [
       "<Figure size 432x288 with 1 Axes>"
      ]
     },
     "metadata": {
      "needs_background": "light"
     },
     "output_type": "display_data"
    }
   ],
   "source": [
    "seq_len = [len(str(i).split()) for i in train['text']]\n",
    "pd.Series(seq_len).hist(bins = 50)"
   ]
  },
  {
   "cell_type": "markdown",
   "id": "c5f536e4",
   "metadata": {},
   "source": [
    "Подготовка лейблов для модели"
   ]
  },
  {
   "cell_type": "code",
   "execution_count": 13,
   "id": "c57c93f0",
   "metadata": {},
   "outputs": [
    {
     "data": {
      "text/html": [
       "<div>\n",
       "<style scoped>\n",
       "    .dataframe tbody tr th:only-of-type {\n",
       "        vertical-align: middle;\n",
       "    }\n",
       "\n",
       "    .dataframe tbody tr th {\n",
       "        vertical-align: top;\n",
       "    }\n",
       "\n",
       "    .dataframe thead th {\n",
       "        text-align: right;\n",
       "    }\n",
       "</style>\n",
       "<table border=\"1\" class=\"dataframe\">\n",
       "  <thead>\n",
       "    <tr style=\"text-align: right;\">\n",
       "      <th></th>\n",
       "      <th>text</th>\n",
       "      <th>act</th>\n",
       "      <th>application</th>\n",
       "      <th>arrangement</th>\n",
       "      <th>bill</th>\n",
       "      <th>contract</th>\n",
       "      <th>contract offer</th>\n",
       "      <th>determination</th>\n",
       "      <th>invoice</th>\n",
       "      <th>order</th>\n",
       "      <th>proxy</th>\n",
       "      <th>statute</th>\n",
       "    </tr>\n",
       "  </thead>\n",
       "  <tbody>\n",
       "    <tr>\n",
       "      <th>0</th>\n",
       "      <td>Приложение к письму Банка России \"О форме дого...</td>\n",
       "      <td>False</td>\n",
       "      <td>False</td>\n",
       "      <td>False</td>\n",
       "      <td>False</td>\n",
       "      <td>True</td>\n",
       "      <td>False</td>\n",
       "      <td>False</td>\n",
       "      <td>False</td>\n",
       "      <td>False</td>\n",
       "      <td>False</td>\n",
       "      <td>False</td>\n",
       "    </tr>\n",
       "    <tr>\n",
       "      <th>1</th>\n",
       "      <td>ДОГОВОР МЕЖДУ РОССИЙСКОЙ ФЕДЕРАЦИЕЙ И РЕСПУБЛИ...</td>\n",
       "      <td>False</td>\n",
       "      <td>False</td>\n",
       "      <td>False</td>\n",
       "      <td>False</td>\n",
       "      <td>True</td>\n",
       "      <td>False</td>\n",
       "      <td>False</td>\n",
       "      <td>False</td>\n",
       "      <td>False</td>\n",
       "      <td>False</td>\n",
       "      <td>False</td>\n",
       "    </tr>\n",
       "    <tr>\n",
       "      <th>2</th>\n",
       "      <td>Договор {ДатаДокумента} г. {НазваниеКонтр}, в ...</td>\n",
       "      <td>False</td>\n",
       "      <td>False</td>\n",
       "      <td>False</td>\n",
       "      <td>False</td>\n",
       "      <td>True</td>\n",
       "      <td>False</td>\n",
       "      <td>False</td>\n",
       "      <td>False</td>\n",
       "      <td>False</td>\n",
       "      <td>False</td>\n",
       "      <td>False</td>\n",
       "    </tr>\n",
       "    <tr>\n",
       "      <th>3</th>\n",
       "      <td>ДОГОВОР г. Москва 2020 года Гр. РФ , года рожд...</td>\n",
       "      <td>False</td>\n",
       "      <td>False</td>\n",
       "      <td>False</td>\n",
       "      <td>False</td>\n",
       "      <td>True</td>\n",
       "      <td>False</td>\n",
       "      <td>False</td>\n",
       "      <td>False</td>\n",
       "      <td>False</td>\n",
       "      <td>False</td>\n",
       "      <td>False</td>\n",
       "    </tr>\n",
       "    <tr>\n",
       "      <th>4</th>\n",
       "      <td>Зарегистрировано в Минюсте РФ 25 августа 1992 ...</td>\n",
       "      <td>False</td>\n",
       "      <td>False</td>\n",
       "      <td>False</td>\n",
       "      <td>False</td>\n",
       "      <td>True</td>\n",
       "      <td>False</td>\n",
       "      <td>False</td>\n",
       "      <td>False</td>\n",
       "      <td>False</td>\n",
       "      <td>False</td>\n",
       "      <td>False</td>\n",
       "    </tr>\n",
       "  </tbody>\n",
       "</table>\n",
       "</div>"
      ],
      "text/plain": [
       "                                                text    act  application  \\\n",
       "0  Приложение к письму Банка России \"О форме дого...  False        False   \n",
       "1  ДОГОВОР МЕЖДУ РОССИЙСКОЙ ФЕДЕРАЦИЕЙ И РЕСПУБЛИ...  False        False   \n",
       "2  Договор {ДатаДокумента} г. {НазваниеКонтр}, в ...  False        False   \n",
       "3  ДОГОВОР г. Москва 2020 года Гр. РФ , года рожд...  False        False   \n",
       "4  Зарегистрировано в Минюсте РФ 25 августа 1992 ...  False        False   \n",
       "\n",
       "   arrangement   bill  contract  contract offer  determination  invoice  \\\n",
       "0        False  False      True           False          False    False   \n",
       "1        False  False      True           False          False    False   \n",
       "2        False  False      True           False          False    False   \n",
       "3        False  False      True           False          False    False   \n",
       "4        False  False      True           False          False    False   \n",
       "\n",
       "   order  proxy  statute  \n",
       "0  False  False    False  \n",
       "1  False  False    False  \n",
       "2  False  False    False  \n",
       "3  False  False    False  \n",
       "4  False  False    False  "
      ]
     },
     "execution_count": 13,
     "metadata": {},
     "output_type": "execute_result"
    }
   ],
   "source": [
    "train = pd.get_dummies(train, columns=['class'], prefix='', prefix_sep='', dtype=bool, drop_first= False)\n",
    "train.head()"
   ]
  },
  {
   "cell_type": "code",
   "execution_count": 14,
   "id": "32c60cda",
   "metadata": {},
   "outputs": [
    {
     "data": {
      "text/plain": [
       "['act',\n",
       " 'application',\n",
       " 'arrangement',\n",
       " 'bill',\n",
       " 'contract',\n",
       " 'contract offer',\n",
       " 'determination',\n",
       " 'invoice',\n",
       " 'order',\n",
       " 'proxy',\n",
       " 'statute']"
      ]
     },
     "execution_count": 14,
     "metadata": {},
     "output_type": "execute_result"
    }
   ],
   "source": [
    "labels = [label for label in train.columns if label not in ['text']]\n",
    "labels"
   ]
  },
  {
   "cell_type": "markdown",
   "id": "fec96c7c",
   "metadata": {},
   "source": [
    "Разделение датасета на тренировочный и валидационный в соотношении 80/20"
   ]
  },
  {
   "cell_type": "code",
   "execution_count": 12,
   "id": "b61151ea",
   "metadata": {},
   "outputs": [],
   "source": [
    "train_df, valid_df = train_test_split(train, test_size=0.2, random_state=42)\n",
    "train_dataset = Dataset.from_pandas(train_df)\n",
    "valid_dataset = Dataset.from_pandas(valid_df)\n",
    "#test_dataset = Dataset.from_pandas(df_test.reset_index())"
   ]
  },
  {
   "cell_type": "code",
   "execution_count": 16,
   "id": "27d3ffbe",
   "metadata": {},
   "outputs": [
    {
     "data": {
      "application/vnd.jupyter.widget-view+json": {
       "model_id": "3c1b1f12db6d4925851c13d65d84f3a6",
       "version_major": 2,
       "version_minor": 0
      },
      "text/plain": [
       "  0%|          | 0/2 [00:00<?, ?ba/s]"
      ]
     },
     "metadata": {},
     "output_type": "display_data"
    },
    {
     "data": {
      "application/vnd.jupyter.widget-view+json": {
       "model_id": "fa754190c66448e2850c1333ef84d10f",
       "version_major": 2,
       "version_minor": 0
      },
      "text/plain": [
       "  0%|          | 0/1 [00:00<?, ?ba/s]"
      ]
     },
     "metadata": {},
     "output_type": "display_data"
    }
   ],
   "source": [
    "encoded_dataset = encoding_dataset(train, test_size=0.2)"
   ]
  },
  {
   "cell_type": "code",
   "execution_count": 17,
   "id": "bf1c1abe",
   "metadata": {},
   "outputs": [
    {
     "name": "stdout",
     "output_type": "stream",
     "text": [
      "dict_keys(['input_ids', 'token_type_ids', 'attention_mask', 'labels'])\n",
      "tensor([0., 0., 1., 0., 0., 0., 0., 0., 0., 0., 0.])\n",
      "['arrangement']\n",
      "[CLS] Дополнительное соглашение № 47 к трудовому договору № 12 - ТД от \" 30 \" марта 2015 года об отмене дистанционной работы г. Киров \" 10 \" сентября 2020 года Общество с ограниченной ответственностью \" Астра \" ( ООО \" Астра \" ), именуемое в дальнейшем \" Работодатель \", в лице генерального директора Ложкина Петра Петровича, действующего на основании Устава, с одной стороны, и дизайнер Соколов Илья Ильич, именуемый в дальнейшем \" Работник \", с другой стороны, вместе именуемые \" Стороны \", заключили настоящее дополнительное соглашение к трудовому договору № 12 - ТД от \" 30 \" марта 2015 года о нижеследующем : 1. П. 2 трудового договора изложить в следующей редакции : \" Работник выполняет трудовую функцию по месту нахождения работодателя : г. Киров, ул. Некрасова, д. 87, оф. 11Б. Начало рабочего дня – в 8 : 00, окончание – в 17 : 00. Обеденный перерыв : с 12 : 00 до 13 : 00. Рабочие дни : понедельник, вторник, среда, четверг, пятница. Выходные дни : суббота, воскресенье \". 2. П. 5 трудового договора изложить в следующей редакции : \" Работодатель обязан обеспечить Работника необходимым оборудованием и технической документацией для выполнения работы \". 3. Остальные пункты трудового договора № 12 - ТД от \" 30 \" марта 2015 года оставить неизменными. 4. Настоящее дополнительное соглашение вступает в силу с \" 16 \" сентября 2020 года и является неотъемлемой частью трудового договора № 12 - ТД от \" 30 \" марта 2015 года. 5. Настоящее дополнительное соглашение составлено в двух экземплярах, имеющих одинаковую юридическую силу : по одному для каждой из Сторон. Реквизиты и подписи сторон Работодатель Работник ИНН 1839998887, КПП 776655448, ОГРН 9876598765432 Место нахождения : г. Киров, ул. Некрасова, д. 87, оф. 11Б. Генеральный директор ООО \" Астра \" : П. П. Ложкин Паспорт : 9123 565656, выдан Октябрьским РОВД гор. Кирова, 22. 09. 2003 года. Место жительства : г. Киров, ул. Салтыкова - Щедрина, д. 123, кв. 11. Работодатель : Ложкин / П. П. Ложкин Работник : Соколов / И. И. Соколов Экземпляр дополнительного соглашения на руки получил : Соколов / И. И. Соколов Дата : \" 10 \" сентября 2020 года [SEP] [PAD] [PAD] [PAD] [PAD] [PAD] [PAD] [PAD] [PAD] [PAD] [PAD] [PAD] [PAD] [PAD] [PAD] [PAD] [PAD] [PAD] [PAD] [PAD] [PAD] [PAD]\n"
     ]
    }
   ],
   "source": [
    "#пример для проверки\n",
    "i=0\n",
    "example = encoded_dataset['train'][i]\n",
    "print(example.keys())\n",
    "print(example['labels'])\n",
    "print([id2label[idx] for idx, label in enumerate(example['labels']) if label == 1.0])\n",
    "print(tokenizer.decode(example['input_ids']))"
   ]
  },
  {
   "cell_type": "markdown",
   "id": "0d9a2644",
   "metadata": {},
   "source": [
    "Определение модели"
   ]
  },
  {
   "cell_type": "code",
   "execution_count": 20,
   "id": "a43fc18c",
   "metadata": {},
   "outputs": [
    {
     "name": "stderr",
     "output_type": "stream",
     "text": [
      "Some weights of BertForSequenceClassification were not initialized from the model checkpoint at DeepPavlov/rubert-base-cased-sentence and are newly initialized: ['classifier.weight', 'classifier.bias']\n",
      "You should probably TRAIN this model on a down-stream task to be able to use it for predictions and inference.\n"
     ]
    }
   ],
   "source": [
    "tokenizer = BertTokenizer.from_pretrained('DeepPavlov/rubert-base-cased-sentence')\n",
    "model = BertForSequenceClassification.from_pretrained('DeepPavlov/rubert-base-cased-sentence',\n",
    "                                                      problem_type=\"multi_label_classification\", \n",
    "                                                      num_labels=len(labels),\n",
    "                                                      id2label=id2label,\n",
    "                                                      label2id=label2id).to(device)"
   ]
  },
  {
   "cell_type": "markdown",
   "id": "51bfb312",
   "metadata": {},
   "source": [
    "Транировка модели"
   ]
  },
  {
   "cell_type": "code",
   "execution_count": 19,
   "id": "fc71e7a1",
   "metadata": {},
   "outputs": [],
   "source": [
    "batch_size = 1  #больше 2 ухудшают результат до случайного\n",
    "metric_name = \"f1\"\n",
    "\n",
    "args = TrainingArguments(\n",
    "    output_dir = \"training/results\",        #Выходной каталог\n",
    "    evaluation_strategy = \"epoch\",          #Валидация после каждой эпохи (можно после конкретного кол-ва шагов)\n",
    "    save_strategy = \"epoch\",                #Сохранение после каждой эпохи\n",
    "    learning_rate=1e-5,                     #Скорость обучения 1e-5 = 0,00001 \n",
    "    per_device_train_batch_size=batch_size, #Размер пакета для каждого устройства во время обучения\n",
    "    per_device_eval_batch_size=batch_size,  #Размер пакета для каждого устройства во время валидации\n",
    "    num_train_epochs=5,                     #Кол-во эпох для обучения\n",
    "    weight_decay=0.01,                      #Понижение весов\n",
    "    load_best_model_at_end=True,            #Загружать ли лучшую модель после обучения\n",
    "    metric_for_best_model=metric_name,\n",
    "    save_total_limit = 1,\n",
    "    seed=42,\n",
    "    #logging_dir = 'training/logs',         #Каталог для хранения журналов\n",
    "    #logging_strategy = 'epoch',            #Логирование после каждой эпохи\n",
    "    #push_to_hub=False,\n",
    "    report_to=\"none\"                        #wandb отключить\n",
    ")"
   ]
  },
  {
   "cell_type": "code",
   "execution_count": 20,
   "id": "fea9255d",
   "metadata": {},
   "outputs": [
    {
     "name": "stderr",
     "output_type": "stream",
     "text": [
      "We strongly recommend passing in an `attention_mask` since your input_ids may be padded. See https://huggingface.co/docs/transformers/troubleshooting#incorrect-output-when-padding-tokens-arent-masked.\n"
     ]
    },
    {
     "data": {
      "text/plain": [
       "SequenceClassifierOutput(loss=tensor(0.7018, grad_fn=<BinaryCrossEntropyWithLogitsBackward0>), logits=tensor([[-0.4027, -0.1046, -0.1016,  0.0463,  0.0905, -0.1218,  0.0214,  0.4044,\n",
       "          0.1010, -0.0374, -0.0027]], grad_fn=<AddmmBackward0>), hidden_states=None, attentions=None)"
      ]
     },
     "execution_count": 20,
     "metadata": {},
     "output_type": "execute_result"
    }
   ],
   "source": [
    "#forward pass\n",
    "outputs = model(input_ids=encoded_dataset['train']['input_ids'][0].unsqueeze(0), \n",
    "                labels=encoded_dataset['train'][0]['labels'].unsqueeze(0))\n",
    "outputs"
   ]
  },
  {
   "cell_type": "code",
   "execution_count": 21,
   "id": "d71523c4",
   "metadata": {},
   "outputs": [],
   "source": [
    "trainer = Trainer(\n",
    "    model,\n",
    "    args,\n",
    "    train_dataset=encoded_dataset[\"train\"],\n",
    "    eval_dataset=encoded_dataset[\"validation\"],\n",
    "    tokenizer=tokenizer,\n",
    "    compute_metrics=compute_metrics\n",
    ")"
   ]
  },
  {
   "cell_type": "code",
   "execution_count": 22,
   "id": "1bb76903",
   "metadata": {},
   "outputs": [
    {
     "data": {
      "text/html": [
       "\n",
       "    <div>\n",
       "      \n",
       "      <progress value='5430' max='5430' style='width:300px; height:20px; vertical-align: middle;'></progress>\n",
       "      [5430/5430 14:41, Epoch 5/5]\n",
       "    </div>\n",
       "    <table border=\"1\" class=\"dataframe\">\n",
       "  <thead>\n",
       " <tr style=\"text-align: left;\">\n",
       "      <th>Epoch</th>\n",
       "      <th>Training Loss</th>\n",
       "      <th>Validation Loss</th>\n",
       "      <th>F1</th>\n",
       "      <th>Roc Auc</th>\n",
       "      <th>Accuracy</th>\n",
       "    </tr>\n",
       "  </thead>\n",
       "  <tbody>\n",
       "    <tr>\n",
       "      <td>1</td>\n",
       "      <td>0.130700</td>\n",
       "      <td>0.106010</td>\n",
       "      <td>0.800000</td>\n",
       "      <td>0.843750</td>\n",
       "      <td>0.691176</td>\n",
       "    </tr>\n",
       "    <tr>\n",
       "      <td>2</td>\n",
       "      <td>0.071200</td>\n",
       "      <td>0.061636</td>\n",
       "      <td>0.942748</td>\n",
       "      <td>0.953125</td>\n",
       "      <td>0.908088</td>\n",
       "    </tr>\n",
       "    <tr>\n",
       "      <td>3</td>\n",
       "      <td>0.038100</td>\n",
       "      <td>0.040956</td>\n",
       "      <td>0.958955</td>\n",
       "      <td>0.971140</td>\n",
       "      <td>0.944853</td>\n",
       "    </tr>\n",
       "    <tr>\n",
       "      <td>4</td>\n",
       "      <td>0.023400</td>\n",
       "      <td>0.035117</td>\n",
       "      <td>0.957328</td>\n",
       "      <td>0.972610</td>\n",
       "      <td>0.948529</td>\n",
       "    </tr>\n",
       "    <tr>\n",
       "      <td>5</td>\n",
       "      <td>0.016900</td>\n",
       "      <td>0.028249</td>\n",
       "      <td>0.970260</td>\n",
       "      <td>0.978860</td>\n",
       "      <td>0.959559</td>\n",
       "    </tr>\n",
       "  </tbody>\n",
       "</table><p>"
      ],
      "text/plain": [
       "<IPython.core.display.HTML object>"
      ]
     },
     "metadata": {},
     "output_type": "display_data"
    },
    {
     "data": {
      "text/plain": [
       "TrainOutput(global_step=5430, training_loss=0.06846426450964715, metrics={'train_runtime': 881.5598, 'train_samples_per_second': 6.16, 'train_steps_per_second': 6.16, 'total_flos': 1428808479528960.0, 'train_loss': 0.06846426450964715, 'epoch': 5.0})"
      ]
     },
     "execution_count": 22,
     "metadata": {},
     "output_type": "execute_result"
    }
   ],
   "source": [
    "trainer.train()"
   ]
  },
  {
   "cell_type": "markdown",
   "id": "6b88bf3d",
   "metadata": {},
   "source": [
    "Валидация"
   ]
  },
  {
   "cell_type": "code",
   "execution_count": 23,
   "id": "3e2c8d74",
   "metadata": {},
   "outputs": [
    {
     "data": {
      "text/html": [],
      "text/plain": [
       "<IPython.core.display.HTML object>"
      ]
     },
     "metadata": {},
     "output_type": "display_data"
    },
    {
     "data": {
      "text/plain": [
       "{'eval_loss': 0.028248809278011322,\n",
       " 'eval_f1': 0.9702602230483273,\n",
       " 'eval_roc_auc': 0.9788602941176471,\n",
       " 'eval_accuracy': 0.9595588235294118,\n",
       " 'eval_runtime': 9.714,\n",
       " 'eval_samples_per_second': 28.001,\n",
       " 'eval_steps_per_second': 28.001,\n",
       " 'epoch': 5.0}"
      ]
     },
     "execution_count": 23,
     "metadata": {},
     "output_type": "execute_result"
    }
   ],
   "source": [
    "# встроенная валидаци\n",
    "trainer.evaluate()"
   ]
  },
  {
   "cell_type": "code",
   "execution_count": 34,
   "id": "96d6a471",
   "metadata": {
    "scrolled": true
   },
   "outputs": [
    {
     "data": {
      "text/html": [],
      "text/plain": [
       "<IPython.core.display.HTML object>"
      ]
     },
     "metadata": {},
     "output_type": "display_data"
    },
    {
     "name": "stdout",
     "output_type": "stream",
     "text": [
      "                precision    recall  f1-score   support\n",
      "\n",
      "           act       1.00      1.00      1.00        12\n",
      "   application       0.95      0.95      0.95        19\n",
      "   arrangement       1.00      0.98      0.99        63\n",
      "          bill       1.00      1.00      1.00        11\n",
      "      contract       0.93      1.00      0.96        55\n",
      "contract offer       1.00      0.43      0.60         7\n",
      " determination       0.82      1.00      0.90        14\n",
      "       invoice       1.00      0.86      0.92         7\n",
      "         order       1.00      1.00      1.00        59\n",
      "         proxy       1.00      1.00      1.00        11\n",
      "       statute       1.00      0.93      0.96        14\n",
      "\n",
      "      accuracy                           0.97       272\n",
      "     macro avg       0.97      0.92      0.94       272\n",
      "  weighted avg       0.97      0.97      0.97       272\n",
      "\n",
      "0.9705882352941176\n"
     ]
    }
   ],
   "source": [
    "#валидация sklern\n",
    "pred, score = get_prediction(encoded_dataset[\"validation\"])\n",
    "test_labels = np.argmax(encoded_dataset['validation']['labels'], axis = -1) #тестовые лейблы в цифры\n",
    "test_labels = [id2label[idx] for idx in list(np.array(test_labels))]\n",
    "print(classification_report(test_labels, pred))\n",
    "print(f1_score(test_labels, pred, average='micro'))"
   ]
  },
  {
   "cell_type": "code",
   "execution_count": 35,
   "id": "3fb368de",
   "metadata": {},
   "outputs": [
    {
     "data": {
      "image/png": "[encoded data removed]",
      "text/plain": [
       "<Figure size 432x288 with 2 Axes>"
      ]
     },
     "metadata": {
      "needs_background": "light"
     },
     "output_type": "display_data"
    }
   ],
   "source": [
    "ConfusionMatrixDisplay.from_predictions(test_labels, pred, xticks_rotation = 'vertical', cmap=plt.cm.Blues)\n",
    "plt.show()"
   ]
  },
  {
   "cell_type": "markdown",
   "id": "48fbf747",
   "metadata": {},
   "source": [
    "Загрузка сохраненной модели для проверки"
   ]
  },
  {
   "cell_type": "code",
   "execution_count": 36,
   "id": "6ebfab9f",
   "metadata": {},
   "outputs": [],
   "source": [
    "save_directory = 'training/results/checkpoint-5430'\n",
    "best_model = BertForSequenceClassification.from_pretrained(save_directory, local_files_only=True)#, return_dict=True"
   ]
  },
  {
   "cell_type": "code",
   "execution_count": 37,
   "id": "78230044",
   "metadata": {},
   "outputs": [],
   "source": [
    "trainer1 = Trainer(best_model)"
   ]
  },
  {
   "cell_type": "code",
   "execution_count": 38,
   "id": "d5c1e868",
   "metadata": {},
   "outputs": [],
   "source": [
    "def get_prediction1(dataset):\n",
    "    # предсказание для проверки загрузки сохраненной модели\n",
    "    pred = trainer1.predict(dataset)\n",
    "    labels = np.argmax(pred.predictions, axis = -1)\n",
    "    labels = [id2label[idx] for idx in list(labels)]\n",
    "    return labels"
   ]
  },
  {
   "cell_type": "code",
   "execution_count": 39,
   "id": "2ed9a364",
   "metadata": {},
   "outputs": [
    {
     "data": {
      "text/html": [],
      "text/plain": [
       "<IPython.core.display.HTML object>"
      ]
     },
     "metadata": {},
     "output_type": "display_data"
    },
    {
     "name": "stdout",
     "output_type": "stream",
     "text": [
      "                precision    recall  f1-score   support\n",
      "\n",
      "           act       1.00      1.00      1.00        12\n",
      "   application       0.95      0.95      0.95        19\n",
      "   arrangement       1.00      0.98      0.99        63\n",
      "          bill       1.00      1.00      1.00        11\n",
      "      contract       0.93      1.00      0.96        55\n",
      "contract offer       1.00      0.43      0.60         7\n",
      " determination       0.82      1.00      0.90        14\n",
      "       invoice       1.00      0.86      0.92         7\n",
      "         order       1.00      1.00      1.00        59\n",
      "         proxy       1.00      1.00      1.00        11\n",
      "       statute       1.00      0.93      0.96        14\n",
      "\n",
      "      accuracy                           0.97       272\n",
      "     macro avg       0.97      0.92      0.94       272\n",
      "  weighted avg       0.97      0.97      0.97       272\n",
      "\n",
      "0.9705882352941176\n"
     ]
    }
   ],
   "source": [
    "#валидация\n",
    "pred = get_prediction1(encoded_dataset[\"validation\"])\n",
    "test_labels = np.argmax(encoded_dataset['validation']['labels'], axis = -1) #тестовые лейблы в цифры\n",
    "test_labels = [id2label[idx] for idx in list(np.array(test_labels))]\n",
    "print(classification_report(test_labels, pred))\n",
    "print(f1_score(test_labels, pred, average='micro'))"
   ]
  },
  {
   "cell_type": "code",
   "execution_count": null,
   "id": "86d064ca",
   "metadata": {},
   "outputs": [],
   "source": []
  }
 ],
 "metadata": {
  "kernelspec": {
   "display_name": "Python 3 (ipykernel)",
   "language": "python",
   "name": "python3"
  },
  "language_info": {
   "codemirror_mode": {
    "name": "ipython",
    "version": 3
   },
   "file_extension": ".py",
   "mimetype": "text/x-python",
   "name": "python",
   "nbconvert_exporter": "python",
   "pygments_lexer": "ipython3",
   "version": "3.9.12"
  }
 },
 "nbformat": 4,
 "nbformat_minor": 5
}
